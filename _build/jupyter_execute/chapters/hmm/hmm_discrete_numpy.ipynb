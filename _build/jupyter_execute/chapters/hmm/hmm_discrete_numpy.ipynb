{
 "cells": [
  {
   "cell_type": "markdown",
   "metadata": {},
   "source": [
    "# Implementing discrete HMMs in Numpy \n",
    "\n",
    "We start with a simple numpy implementation."
   ]
  },
  {
   "cell_type": "code",
   "execution_count": 1,
   "metadata": {},
   "outputs": [],
   "source": [
    "# Install necessary libraries\n",
    "\n",
    "try:\n",
    "    import jax\n",
    "except:\n",
    "    # For cuda version, see https://github.com/google/jax#installation\n",
    "    %pip install --upgrade \"jax[cpu]\" \n",
    "    import jax\n",
    "\n",
    "try:\n",
    "    import jsl\n",
    "except:\n",
    "    %pip install git+https://github.com/probml/jsl\n",
    "    import jsl\n"
   ]
  },
  {
   "cell_type": "code",
   "execution_count": 2,
   "metadata": {},
   "outputs": [],
   "source": [
    "import abc\n",
    "from dataclasses import dataclass\n",
    "import functools\n",
    "import itertools\n",
    "\n",
    "from typing import Any, Callable, NamedTuple, Optional, Union, Tuple\n",
    "\n",
    "import inspect\n",
    "import jax\n",
    "import jax.numpy as jnp\n",
    "import matplotlib.pyplot as plt\n",
    "import numpy as np\n",
    "\n",
    "def print_source(fname):\n",
    "    print('source code of ', fname)\n",
    "    #txt = inspect.getsource(fname)\n",
    "    (lines, line_num) = inspect.getsourcelines(fname)\n",
    "    for line in lines:\n",
    "        print(line.strip('\\n'))"
   ]
  },
  {
   "cell_type": "code",
   "execution_count": 3,
   "metadata": {},
   "outputs": [],
   "source": [
    "import jsl\n",
    "import jsl.hmm.hmm_numpy_lib as hmm_lib_np\n",
    "#import jsl.hmm.hmm_lib as hmm_lib_jax"
   ]
  },
  {
   "cell_type": "markdown",
   "metadata": {},
   "source": [
    "Here are some handy utility functions we have already defined."
   ]
  },
  {
   "cell_type": "code",
   "execution_count": 4,
   "metadata": {},
   "outputs": [
    {
     "name": "stdout",
     "output_type": "stream",
     "text": [
      "source code of  <function normalize_numpy at 0x7fbf2893f0d0>\n",
      "def normalize_numpy(u, axis=0, eps=1e-15):\n",
      "    '''\n",
      "    Normalizes the values within the axis in a way that they sum up to 1.\n",
      "\n",
      "    Parameters\n",
      "    ----------\n",
      "    u : array\n",
      "    axis : int\n",
      "    eps : float\n",
      "        Threshold for the alpha values\n",
      "\n",
      "    Returns\n",
      "    -------\n",
      "    * array\n",
      "        Normalized version of the given matrix\n",
      "\n",
      "    * array(seq_len, n_hidden) :\n",
      "        The values of the normalizer\n",
      "    '''\n",
      "    u = np.where(u == 0, 0, np.where(u < eps, eps, u))\n",
      "    c = u.sum(axis=axis)\n",
      "    c = np.where(c == 0, 1, c)\n",
      "    return u / c, c\n"
     ]
    }
   ],
   "source": [
    "normalize = hmm_lib_np.normalize_numpy\n",
    "print_source(normalize)\n",
    "#print_source(hmm_lib_np.normalize_numpy)"
   ]
  },
  {
   "cell_type": "markdown",
   "metadata": {},
   "source": [
    "We first create the \"Ocassionally dishonest casino\" model from {cite}`Durbin98`.\n",
    "\n",
    "```{figure} /figures/casino.png\n",
    ":scale: 50%\n",
    ":name: casino\n",
    "\n",
    "Illustration of the casino HMM.\n",
    "```\n",
    "\n"
   ]
  },
  {
   "cell_type": "code",
   "execution_count": 5,
   "metadata": {},
   "outputs": [],
   "source": [
    "\n",
    "# state transition matrix\n",
    "A = np.array([\n",
    "    [0.95, 0.05],\n",
    "    [0.10, 0.90]\n",
    "])\n",
    "\n",
    "# observation matrix\n",
    "B = np.array([\n",
    "    [1/6, 1/6, 1/6, 1/6, 1/6, 1/6], # fair die\n",
    "    [1/10, 1/10, 1/10, 1/10, 1/10, 5/10] # loaded die\n",
    "])\n",
    "\n",
    "pi = np.array([1, 1]) / 2\n",
    "\n",
    "(nstates, nobs) = jnp.shape(B)\n",
    "for i in range(nstates):\n",
    "    A[i,:] = normalize(A[i,:])[0]\n",
    "    B[i,:] = normalize(B[i,:])[0]"
   ]
  },
  {
   "cell_type": "markdown",
   "metadata": {},
   "source": [
    "Let's bundle the parameters into a structure."
   ]
  },
  {
   "cell_type": "code",
   "execution_count": 6,
   "metadata": {},
   "outputs": [
    {
     "name": "stdout",
     "output_type": "stream",
     "text": [
      "HMMNumpy(trans_mat=array([[0.95, 0.05],\n",
      "       [0.1 , 0.9 ]]), obs_mat=array([[0.16666667, 0.16666667, 0.16666667, 0.16666667, 0.16666667,\n",
      "        0.16666667],\n",
      "       [0.1       , 0.1       , 0.1       , 0.1       , 0.1       ,\n",
      "        0.5       ]]), init_dist=array([0.5, 0.5]))\n"
     ]
    }
   ],
   "source": [
    "\n",
    "class HMMNumpy(NamedTuple):\n",
    "    trans_mat: np.array  # A : (n_states, n_states)\n",
    "    obs_mat: np.array  # B : (n_states, n_obs)\n",
    "    init_dist: np.array  # pi : (n_states)\n",
    "        \n",
    "\n",
    "params_numpy = HMMNumpy(A, B, pi)\n",
    "print(params_numpy)"
   ]
  },
  {
   "cell_type": "markdown",
   "metadata": {},
   "source": [
    "Function to sample a single sequence of hidden states and discrete observations."
   ]
  },
  {
   "cell_type": "code",
   "execution_count": 7,
   "metadata": {},
   "outputs": [
    {
     "name": "stdout",
     "output_type": "stream",
     "text": [
      "source code of  <function hmm_sample_numpy at 0x7fbf2a1ceee0>\n",
      "def hmm_sample_numpy(params, seq_len, random_state=0):\n",
      "    '''\n",
      "    Samples an observation of given length according to the defined\n",
      "    hidden markov model and gives the sequence of the hidden states\n",
      "    as well as the observation.\n",
      "\n",
      "    Parameters\n",
      "    ----------\n",
      "    params : HMMNumpy\n",
      "        Hidden Markov Model\n",
      "\n",
      "    seq_len: array(seq_len)\n",
      "        The length of the observation sequence\n",
      "\n",
      "    random_state : int\n",
      "        Seed value\n",
      "\n",
      "    Returns\n",
      "    -------\n",
      "    * array(seq_len,)\n",
      "        Hidden state sequence\n",
      "\n",
      "    * array(seq_len,) :\n",
      "        Observation sequence\n",
      "    '''\n",
      "\n",
      "    def sample_one_step_(hist, a, p):\n",
      "        x_t = np.random.choice(a=a, p=p)\n",
      "        return np.append(hist, [x_t]), x_t\n",
      "\n",
      "    seed(random_state)\n",
      "\n",
      "    trans_mat, obs_mat, init_dist = params.trans_mat, params.obs_mat, params.init_dist\n",
      "    n_states, n_obs = obs_mat.shape\n",
      "\n",
      "    state_seq = np.array([], dtype=int)\n",
      "    obs_seq = np.array([], dtype=int)\n",
      "\n",
      "    latent_states = np.arange(n_states)\n",
      "    obs_states = np.arange(n_obs)\n",
      "\n",
      "    state_seq, zt = sample_one_step_(state_seq, latent_states, init_dist)\n",
      "    obs_seq, xt = sample_one_step_(obs_seq, obs_states, obs_mat[zt])\n",
      "\n",
      "    for _ in range(1, seq_len):\n",
      "        state_seq, zt = sample_one_step_(state_seq, latent_states, trans_mat[zt])\n",
      "        obs_seq, xt = sample_one_step_(obs_seq, obs_states, obs_mat[zt])\n",
      "\n",
      "    return state_seq, obs_seq\n"
     ]
    }
   ],
   "source": [
    "hmm_sample = hmm_lib_np.hmm_sample_numpy\n",
    "print_source(hmm_sample)"
   ]
  },
  {
   "cell_type": "markdown",
   "metadata": {},
   "source": [
    "Let's sample from this model."
   ]
  },
  {
   "cell_type": "code",
   "execution_count": 8,
   "metadata": {},
   "outputs": [
    {
     "name": "stdout",
     "output_type": "stream",
     "text": [
      "[1 1 1 1 1 1 1 0 0 0 1 1 1 1 1 1 1 0 0 0]\n",
      "[5 5 5 5 3 5 5 0 4 5 5 5 5 5 4 5 5 3 3 4]\n"
     ]
    }
   ],
   "source": [
    "seq_len = 20\n",
    "state_seq, obs_seq = hmm_sample(params_numpy, seq_len, random_state=0)\n",
    "print(state_seq)\n",
    "print(obs_seq)"
   ]
  }
 ],
 "metadata": {
  "kernelspec": {
   "display_name": "Python 3",
   "language": "python",
   "name": "python3"
  },
  "language_info": {
   "codemirror_mode": {
    "name": "ipython",
    "version": 3
   },
   "file_extension": ".py",
   "mimetype": "text/x-python",
   "name": "python",
   "nbconvert_exporter": "python",
   "pygments_lexer": "ipython3",
   "version": "3.8.5"
  }
 },
 "nbformat": 4,
 "nbformat_minor": 4
}