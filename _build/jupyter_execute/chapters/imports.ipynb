{
 "cells": [
  {
   "cell_type": "code",
   "execution_count": 1,
   "metadata": {},
   "outputs": [
    {
     "name": "stdout",
     "output_type": "stream",
     "text": [
      "Requirement already satisfied: pip in /opt/anaconda3/lib/python3.8/site-packages (22.0.4)\r\n"
     ]
    },
    {
     "name": "stdout",
     "output_type": "stream",
     "text": [
      "Note: you may need to restart the kernel to use updated packages.\n"
     ]
    }
   ],
   "source": [
    "# Install necessary libraries\n",
    "\n",
    "\n",
    "%pip install --upgrade pip\n",
    "\n",
    "try:\n",
    "    import jax\n",
    "except:\n",
    "    # For cuda version, see https://github.com/google/jax#installation\n",
    "    %pip install --upgrade \"jax[cpu]\"  \n",
    "    import jax\n",
    "\n",
    "try:\n",
    "  import optax\n",
    "except:\n",
    "  %pip install --upgrade git+https://github.com/deepmind/optax.git\n",
    "  import optax\n",
    "\n",
    "try:\n",
    "    import jaxopt\n",
    "except:\n",
    "    %pip install  --upgrade git+https://github.com/google/jaxopt.git\n",
    "    import jaxopt\n",
    "\n",
    "\n",
    "try:\n",
    "    import flax\n",
    "except:\n",
    "    %pip install --upgrade git+https://github.com/google/flax.git\n",
    "    import flax\n",
    "\n",
    "try:\n",
    "    import distrax\n",
    "except:\n",
    "    %pip install --upgrade git+https://github.com/deepmind/distrax.git\n",
    "    import distrax\n",
    "\n",
    "try:\n",
    "    import blackjax\n",
    "except:\n",
    "    %pip install --upgrade git+https://github.com/blackjax-devs/blackjax.git\n",
    "    import blackjax\n",
    "\n",
    "try:\n",
    "    import jsl\n",
    "except:\n",
    "    %pip install git+https://github.com/probml/jsl\n",
    "    import jsl\n",
    "\n",
    "try:\n",
    "    import rich\n",
    "except:\n",
    "    %pip install rich\n",
    "    import rich\n",
    "    "
   ]
  },
  {
   "cell_type": "code",
   "execution_count": 2,
   "metadata": {},
   "outputs": [],
   "source": [
    "import abc\n",
    "from dataclasses import dataclass\n",
    "import functools\n",
    "import itertools\n",
    "\n",
    "from typing import Any, Callable, NamedTuple, Optional, Union, Tuple\n",
    "\n",
    "\n",
    "import jax\n",
    "import jax.numpy as jnp\n",
    "import matplotlib.pyplot as plt\n",
    "import numpy as np\n",
    "\n",
    "import inspect\n",
    "import inspect as py_inspect\n",
    "\n",
    "from rich import inspect as r_inspect\n",
    "from rich import print as r_print\n",
    "\n",
    "def print_source(fname):\n",
    "    r_print(py_inspect.getsource(fname))\n",
    "\n"
   ]
  },
  {
   "cell_type": "code",
   "execution_count": 3,
   "metadata": {},
   "outputs": [],
   "source": [
    "\n",
    "   \n",
    "def print_source_old(fname):\n",
    "    print('source code of ', fname)\n",
    "    #txt = inspect.getsource(fname)\n",
    "    (lines, line_num) = inspect.getsourcelines(fname)\n",
    "    for line in lines:\n",
    "        print(line.strip('\\n'))"
   ]
  },
  {
   "cell_type": "code",
   "execution_count": 4,
   "metadata": {},
   "outputs": [
    {
     "data": {
      "text/html": [
       "<pre style=\"white-space:pre;overflow-x:auto;line-height:normal;font-family:Menlo,'DejaVu Sans Mono',consolas,'Courier New',monospace\">def normalize_numpy<span style=\"font-weight: bold\">(</span>u, <span style=\"color: #808000; text-decoration-color: #808000\">axis</span>=<span style=\"color: #000080; text-decoration-color: #000080; font-weight: bold\">0</span>, <span style=\"color: #808000; text-decoration-color: #808000\">eps</span>=<span style=\"color: #000080; text-decoration-color: #000080; font-weight: bold\">1e-15</span><span style=\"font-weight: bold\">)</span>:\n",
       "    <span style=\"color: #008000; text-decoration-color: #008000\">''</span>'\n",
       "    Normalizes the values within the axis in a way that they sum up to <span style=\"color: #000080; text-decoration-color: #000080; font-weight: bold\">1</span>.\n",
       "\n",
       "    Parameters\n",
       "    ----------\n",
       "    u : array\n",
       "    axis : int\n",
       "    eps : float\n",
       "        Threshold for the alpha values\n",
       "\n",
       "    Returns\n",
       "    -------\n",
       "    * array\n",
       "        Normalized version of the given matrix\n",
       "\n",
       "    * array<span style=\"font-weight: bold\">(</span>seq_len, n_hidden<span style=\"font-weight: bold\">)</span> :\n",
       "        The values of the normalizer\n",
       "    <span style=\"color: #008000; text-decoration-color: #008000\">''</span>'\n",
       "    u = np.where<span style=\"font-weight: bold\">(</span>u == <span style=\"color: #000080; text-decoration-color: #000080; font-weight: bold\">0</span>, <span style=\"color: #000080; text-decoration-color: #000080; font-weight: bold\">0</span>, np.where<span style=\"font-weight: bold\">(</span>u &lt; eps, eps, u<span style=\"font-weight: bold\">))</span>\n",
       "    c = u.sum<span style=\"font-weight: bold\">(</span><span style=\"color: #808000; text-decoration-color: #808000\">axis</span>=<span style=\"color: #800080; text-decoration-color: #800080\">axis</span><span style=\"font-weight: bold\">)</span>\n",
       "    c = np.where<span style=\"font-weight: bold\">(</span>c == <span style=\"color: #000080; text-decoration-color: #000080; font-weight: bold\">0</span>, <span style=\"color: #000080; text-decoration-color: #000080; font-weight: bold\">1</span>, c<span style=\"font-weight: bold\">)</span>\n",
       "    return u <span style=\"color: #800080; text-decoration-color: #800080\">/</span> c, c\n",
       "\n",
       "</pre>\n"
      ],
      "text/plain": [
       "<rich.jupyter.JupyterRenderable at 0x7f8c58cffdf0>"
      ]
     },
     "metadata": {},
     "output_type": "display_data"
    }
   ],
   "source": [
    "import jsl\n",
    "import jsl.hmm.hmm_numpy_lib as hmm_lib_np\n",
    "#import jsl.hmm.hmm_lib as hmm_lib_jax\n",
    "\n",
    "normalize = hmm_lib_np.normalize_numpy\n",
    "print_source(normalize)\n",
    "#print_source(hmm_lib_np.normalize_numpy)"
   ]
  }
 ],
 "metadata": {
  "interpreter": {
   "hash": "40d3a090f54c6569ab1632332b64b2c03c39dcf918b08424e98f38b5ae0af88f"
  },
  "kernelspec": {
   "display_name": "Python 3.8.5 ('base')",
   "language": "python",
   "name": "python3"
  },
  "language_info": {
   "codemirror_mode": {
    "name": "ipython",
    "version": 3
   },
   "file_extension": ".py",
   "mimetype": "text/x-python",
   "name": "python",
   "nbconvert_exporter": "python",
   "pygments_lexer": "ipython3",
   "version": "3.8.5"
  }
 },
 "nbformat": 4,
 "nbformat_minor": 2
}