{
 "cells": [
  {
   "cell_type": "code",
   "execution_count": 1,
   "metadata": {},
   "outputs": [
    {
     "name": "stdout",
     "output_type": "stream",
     "text": [
      "Requirement already satisfied: pip in /opt/anaconda3/lib/python3.8/site-packages (22.0.4)\r\n"
     ]
    },
    {
     "name": "stdout",
     "output_type": "stream",
     "text": [
      "Note: you may need to restart the kernel to use updated packages.\n"
     ]
    }
   ],
   "source": [
    "# Install necessary libraries\n",
    "\n",
    "\n",
    "%pip install --upgrade pip\n",
    "\n",
    "try:\n",
    "    import jax\n",
    "except:\n",
    "    # For cuda version, see https://github.com/google/jax#installation\n",
    "    %pip install --upgrade \"jax[cpu]\"  \n",
    "    import jax\n",
    "\n",
    "try:\n",
    "  import optax\n",
    "except:\n",
    "  %pip install --upgrade git+https://github.com/deepmind/optax.git\n",
    "  import optax\n",
    "\n",
    "try:\n",
    "    import jaxopt\n",
    "except:\n",
    "    %pip install  --upgrade git+https://github.com/google/jaxopt.git\n",
    "    import jaxopt\n",
    "\n",
    "\n",
    "try:\n",
    "    import flax\n",
    "except:\n",
    "    %pip install --upgrade git+https://github.com/google/flax.git\n",
    "    import flax\n",
    "\n",
    "try:\n",
    "    import distrax\n",
    "except:\n",
    "    %pip install --upgrade git+https://github.com/deepmind/distrax.git\n",
    "    import distrax\n",
    "\n",
    "try:\n",
    "    import blackjax\n",
    "except:\n",
    "    %pip install --upgrade git+https://github.com/blackjax-devs/blackjax.git\n",
    "    import blackjax\n",
    "\n",
    "try:\n",
    "    import jsl\n",
    "except:\n",
    "    %pip install git+https://github.com/probml/jsl\n",
    "    import jsl"
   ]
  },
  {
   "cell_type": "code",
   "execution_count": 2,
   "metadata": {},
   "outputs": [],
   "source": [
    "import abc\n",
    "from dataclasses import dataclass\n",
    "import functools\n",
    "import itertools\n",
    "\n",
    "from typing import Any, Callable, NamedTuple, Optional, Union, Tuple\n",
    "\n",
    "import inspect\n",
    "import jax\n",
    "import jax.numpy as jnp\n",
    "import matplotlib.pyplot as plt\n",
    "import numpy as np\n",
    "\n",
    "def print_source(fname):\n",
    "    print('source code of ', fname)\n",
    "    #txt = inspect.getsource(fname)\n",
    "    (lines, line_num) = inspect.getsourcelines(fname)\n",
    "    for line in lines:\n",
    "        print(line.strip('\\n'))"
   ]
  },
  {
   "cell_type": "code",
   "execution_count": null,
   "metadata": {},
   "outputs": [],
   "source": [
    "\n",
    "   "
   ]
  }
 ],
 "metadata": {
  "interpreter": {
   "hash": "40d3a090f54c6569ab1632332b64b2c03c39dcf918b08424e98f38b5ae0af88f"
  },
  "kernelspec": {
   "display_name": "Python 3.8.5 ('base')",
   "language": "python",
   "name": "python3"
  },
  "language_info": {
   "codemirror_mode": {
    "name": "ipython",
    "version": 3
   },
   "file_extension": ".py",
   "mimetype": "text/x-python",
   "name": "python",
   "nbconvert_exporter": "python",
   "pygments_lexer": "ipython3",
   "version": "3.8.5"
  }
 },
 "nbformat": 4,
 "nbformat_minor": 2
}