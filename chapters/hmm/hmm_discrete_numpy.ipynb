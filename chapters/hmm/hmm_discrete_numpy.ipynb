{
 "cells": [
  {
   "cell_type": "markdown",
   "metadata": {},
   "source": [
    "# Implementing discrete HMMs in Numpy \n",
    "\n",
    "We start with a simple numpy implementation."
   ]
  },
  {
   "cell_type": "code",
   "execution_count": 1,
   "metadata": {},
   "outputs": [
    {
     "name": "stdout",
     "output_type": "stream",
     "text": [
      "42\n"
     ]
    }
   ],
   "source": [
    "print(42)"
   ]
  },
  {
   "cell_type": "code",
   "execution_count": 2,
   "metadata": {},
   "outputs": [],
   "source": [
    "\n",
    "\n",
    "# Install necessary libraries\n",
    "\n",
    "try:\n",
    "    import jax\n",
    "except:\n",
    "    # For cuda version, see https://github.com/google/jax#installation\n",
    "    %pip install --upgrade \"jax[cpu]\" \n",
    "    import jax\n",
    "\n",
    "try:\n",
    "    import jsl\n",
    "except:\n",
    "    %pip install git+https://github.com/probml/jsl\n",
    "    import jsl\n",
    "\n",
    "try:\n",
    "    import rich\n",
    "except:\n",
    "    %pip install rich\n",
    "    import rich"
   ]
  },
  {
   "cell_type": "code",
   "execution_count": 3,
   "metadata": {},
   "outputs": [],
   "source": [
    "import abc\n",
    "from dataclasses import dataclass\n",
    "import functools\n",
    "import itertools\n",
    "\n",
    "from typing import Any, Callable, NamedTuple, Optional, Union, Tuple\n",
    "\n",
    "\n",
    "import jax\n",
    "import jax.numpy as jnp\n",
    "import matplotlib.pyplot as plt\n",
    "import numpy as np\n",
    "\n",
    "import inspect\n",
    "import inspect as py_inspect\n",
    "\n",
    "from rich import inspect as r_inspect\n",
    "from rich import print as r_print\n",
    "\n",
    "def print_source(fname):\n",
    "    r_print(py_inspect.getsource(fname))"
   ]
  },
  {
   "cell_type": "code",
   "execution_count": 4,
   "metadata": {},
   "outputs": [],
   "source": [
    "import jsl\n",
    "import jsl.hmm.hmm_numpy_lib as hmm_lib_np\n",
    "#import jsl.hmm.hmm_lib as hmm_lib_jax"
   ]
  },
  {
   "cell_type": "markdown",
   "metadata": {},
   "source": [
    "Here are some handy utility functions we have already defined."
   ]
  },
  {
   "cell_type": "code",
   "execution_count": 5,
   "metadata": {},
   "outputs": [
    {
     "data": {
      "text/html": [
       "<pre style=\"white-space:pre;overflow-x:auto;line-height:normal;font-family:Menlo,'DejaVu Sans Mono',consolas,'Courier New',monospace\">def normalize_numpy<span style=\"font-weight: bold\">(</span>u, <span style=\"color: #808000; text-decoration-color: #808000\">axis</span>=<span style=\"color: #000080; text-decoration-color: #000080; font-weight: bold\">0</span>, <span style=\"color: #808000; text-decoration-color: #808000\">eps</span>=<span style=\"color: #000080; text-decoration-color: #000080; font-weight: bold\">1e-15</span><span style=\"font-weight: bold\">)</span>:\n",
       "    <span style=\"color: #008000; text-decoration-color: #008000\">''</span>'\n",
       "    Normalizes the values within the axis in a way that they sum up to <span style=\"color: #000080; text-decoration-color: #000080; font-weight: bold\">1</span>.\n",
       "\n",
       "    Parameters\n",
       "    ----------\n",
       "    u : array\n",
       "    axis : int\n",
       "    eps : float\n",
       "        Threshold for the alpha values\n",
       "\n",
       "    Returns\n",
       "    -------\n",
       "    * array\n",
       "        Normalized version of the given matrix\n",
       "\n",
       "    * array<span style=\"font-weight: bold\">(</span>seq_len, n_hidden<span style=\"font-weight: bold\">)</span> :\n",
       "        The values of the normalizer\n",
       "    <span style=\"color: #008000; text-decoration-color: #008000\">''</span>'\n",
       "    u = np.where<span style=\"font-weight: bold\">(</span>u == <span style=\"color: #000080; text-decoration-color: #000080; font-weight: bold\">0</span>, <span style=\"color: #000080; text-decoration-color: #000080; font-weight: bold\">0</span>, np.where<span style=\"font-weight: bold\">(</span>u &lt; eps, eps, u<span style=\"font-weight: bold\">))</span>\n",
       "    c = u.sum<span style=\"font-weight: bold\">(</span><span style=\"color: #808000; text-decoration-color: #808000\">axis</span>=<span style=\"color: #800080; text-decoration-color: #800080\">axis</span><span style=\"font-weight: bold\">)</span>\n",
       "    c = np.where<span style=\"font-weight: bold\">(</span>c == <span style=\"color: #000080; text-decoration-color: #000080; font-weight: bold\">0</span>, <span style=\"color: #000080; text-decoration-color: #000080; font-weight: bold\">1</span>, c<span style=\"font-weight: bold\">)</span>\n",
       "    return u <span style=\"color: #800080; text-decoration-color: #800080\">/</span> c, c\n",
       "\n",
       "</pre>\n"
      ],
      "text/plain": [
       "<rich.jupyter.JupyterRenderable at 0x7f98309f2b50>"
      ]
     },
     "metadata": {},
     "output_type": "display_data"
    }
   ],
   "source": [
    "normalize = hmm_lib_np.normalize_numpy\n",
    "print_source(normalize)\n",
    "#print_source(hmm_lib_np.normalize_numpy)"
   ]
  },
  {
   "cell_type": "markdown",
   "metadata": {},
   "source": [
    "We first create the \"Ocassionally dishonest casino\" model from {cite}`Durbin98`.\n",
    "\n",
    "```{figure} /figures/casino.png\n",
    ":scale: 50%\n",
    ":name: casino\n",
    "\n",
    "Illustration of the casino HMM.\n",
    "```\n",
    "\n"
   ]
  },
  {
   "cell_type": "code",
   "execution_count": 6,
   "metadata": {},
   "outputs": [],
   "source": [
    "\n",
    "# state transition matrix\n",
    "A = np.array([\n",
    "    [0.95, 0.05],\n",
    "    [0.10, 0.90]\n",
    "])\n",
    "\n",
    "# observation matrix\n",
    "B = np.array([\n",
    "    [1/6, 1/6, 1/6, 1/6, 1/6, 1/6], # fair die\n",
    "    [1/10, 1/10, 1/10, 1/10, 1/10, 5/10] # loaded die\n",
    "])\n",
    "\n",
    "pi = np.array([1, 1]) / 2\n",
    "\n",
    "(nstates, nobs) = jnp.shape(B)\n",
    "for i in range(nstates):\n",
    "    A[i,:] = normalize(A[i,:])[0]\n",
    "    B[i,:] = normalize(B[i,:])[0]"
   ]
  },
  {
   "cell_type": "markdown",
   "metadata": {},
   "source": [
    "Let's bundle the parameters into a structure."
   ]
  },
  {
   "cell_type": "code",
   "execution_count": 9,
   "metadata": {},
   "outputs": [
    {
     "name": "stdout",
     "output_type": "stream",
     "text": [
      "HMMNumpy(trans_mat=array([[0.95, 0.05],\n",
      "       [0.1 , 0.9 ]]), obs_mat=array([[0.16666667, 0.16666667, 0.16666667, 0.16666667, 0.16666667,\n",
      "        0.16666667],\n",
      "       [0.1       , 0.1       , 0.1       , 0.1       , 0.1       ,\n",
      "        0.5       ]]), init_dist=array([0.5, 0.5]))\n"
     ]
    }
   ],
   "source": [
    "\n",
    "class HMMNumpy(NamedTuple):\n",
    "    trans_mat: np.array  # A : (n_states, n_states)\n",
    "    obs_mat: np.array  # B : (n_states, n_obs)\n",
    "    init_dist: np.array  # pi : (n_states)\n",
    "        \n",
    "\n",
    "params_numpy = HMMNumpy(A, B, pi)\n",
    "print(params_numpy)"
   ]
  },
  {
   "cell_type": "markdown",
   "metadata": {},
   "source": [
    "Function to sample a single sequence of hidden states and discrete observations."
   ]
  },
  {
   "cell_type": "code",
   "execution_count": 7,
   "metadata": {},
   "outputs": [
    {
     "data": {
      "text/html": [
       "<pre style=\"white-space:pre;overflow-x:auto;line-height:normal;font-family:Menlo,'DejaVu Sans Mono',consolas,'Courier New',monospace\">def hmm_sample_numpy<span style=\"font-weight: bold\">(</span>params, seq_len, <span style=\"color: #808000; text-decoration-color: #808000\">random_state</span>=<span style=\"color: #000080; text-decoration-color: #000080; font-weight: bold\">0</span><span style=\"font-weight: bold\">)</span>:\n",
       "    <span style=\"color: #008000; text-decoration-color: #008000\">''</span>'\n",
       "    Samples an observation of given length according to the defined\n",
       "    hidden markov model and gives the sequence of the hidden states\n",
       "    as well as the observation.\n",
       "\n",
       "    Parameters\n",
       "    ----------\n",
       "    params : HMMNumpy\n",
       "        Hidden Markov Model\n",
       "\n",
       "    seq_len: array<span style=\"font-weight: bold\">(</span>seq_len<span style=\"font-weight: bold\">)</span>\n",
       "        The length of the observation sequence\n",
       "\n",
       "    random_state : int\n",
       "        Seed value\n",
       "\n",
       "    Returns\n",
       "    -------\n",
       "    * array<span style=\"font-weight: bold\">(</span>seq_len,<span style=\"font-weight: bold\">)</span>\n",
       "        Hidden state sequence\n",
       "\n",
       "    * array<span style=\"font-weight: bold\">(</span>seq_len,<span style=\"font-weight: bold\">)</span> :\n",
       "        Observation sequence\n",
       "    <span style=\"color: #008000; text-decoration-color: #008000\">''</span>'\n",
       "\n",
       "    def sample_one_step_<span style=\"font-weight: bold\">(</span>hist, a, p<span style=\"font-weight: bold\">)</span>:\n",
       "        x_t = np.random.choice<span style=\"font-weight: bold\">(</span><span style=\"color: #808000; text-decoration-color: #808000\">a</span>=<span style=\"color: #800080; text-decoration-color: #800080\">a</span>, <span style=\"color: #808000; text-decoration-color: #808000\">p</span>=<span style=\"color: #800080; text-decoration-color: #800080\">p</span><span style=\"font-weight: bold\">)</span>\n",
       "        return np.append<span style=\"font-weight: bold\">(</span>hist, <span style=\"font-weight: bold\">)</span>, x_t\n",
       "\n",
       "    seed<span style=\"font-weight: bold\">(</span>random_state<span style=\"font-weight: bold\">)</span>\n",
       "\n",
       "    trans_mat, obs_mat, init_dist = params.trans_mat, params.obs_mat, params.init_dist\n",
       "    n_states, n_obs = obs_mat.shape\n",
       "\n",
       "    state_seq = np.array<span style=\"font-weight: bold\">([]</span>, <span style=\"color: #808000; text-decoration-color: #808000\">dtype</span>=<span style=\"color: #800080; text-decoration-color: #800080\">int</span><span style=\"font-weight: bold\">)</span>\n",
       "    obs_seq = np.array<span style=\"font-weight: bold\">([]</span>, <span style=\"color: #808000; text-decoration-color: #808000\">dtype</span>=<span style=\"color: #800080; text-decoration-color: #800080\">int</span><span style=\"font-weight: bold\">)</span>\n",
       "\n",
       "    latent_states = np.arange<span style=\"font-weight: bold\">(</span>n_states<span style=\"font-weight: bold\">)</span>\n",
       "    obs_states = np.arange<span style=\"font-weight: bold\">(</span>n_obs<span style=\"font-weight: bold\">)</span>\n",
       "\n",
       "    state_seq, zt = sample_one_step_<span style=\"font-weight: bold\">(</span>state_seq, latent_states, init_dist<span style=\"font-weight: bold\">)</span>\n",
       "    obs_seq, xt = sample_one_step_<span style=\"font-weight: bold\">(</span>obs_seq, obs_states, obs_mat<span style=\"font-weight: bold\">)</span>\n",
       "\n",
       "    for _ in range<span style=\"font-weight: bold\">(</span><span style=\"color: #000080; text-decoration-color: #000080; font-weight: bold\">1</span>, seq_len<span style=\"font-weight: bold\">)</span>:\n",
       "        state_seq, zt = sample_one_step_<span style=\"font-weight: bold\">(</span>state_seq, latent_states, trans_mat<span style=\"font-weight: bold\">)</span>\n",
       "        obs_seq, xt = sample_one_step_<span style=\"font-weight: bold\">(</span>obs_seq, obs_states, obs_mat<span style=\"font-weight: bold\">)</span>\n",
       "\n",
       "    return state_seq, obs_seq\n",
       "\n",
       "</pre>\n"
      ],
      "text/plain": [
       "<rich.jupyter.JupyterRenderable at 0x7f97c03614f0>"
      ]
     },
     "metadata": {},
     "output_type": "display_data"
    }
   ],
   "source": [
    "hmm_sample = hmm_lib_np.hmm_sample_numpy\n",
    "print_source(hmm_sample)"
   ]
  },
  {
   "cell_type": "markdown",
   "metadata": {},
   "source": [
    "Let's sample from this model."
   ]
  },
  {
   "cell_type": "code",
   "execution_count": 10,
   "metadata": {},
   "outputs": [
    {
     "name": "stdout",
     "output_type": "stream",
     "text": [
      "[1 1 1 1 1 1 1 0 0 0 1 1 1 1 1 1 1 0 0 0]\n",
      "[5 5 5 5 3 5 5 0 4 5 5 5 5 5 4 5 5 3 3 4]\n"
     ]
    }
   ],
   "source": [
    "seq_len = 20\n",
    "state_seq, obs_seq = hmm_sample(params_numpy, seq_len, random_state=0)\n",
    "print(state_seq)\n",
    "print(obs_seq)"
   ]
  }
 ],
 "metadata": {
  "kernelspec": {
   "display_name": "Python 3",
   "language": "python",
   "name": "python3"
  },
  "language_info": {
   "codemirror_mode": {
    "name": "ipython",
    "version": 3
   },
   "file_extension": ".py",
   "mimetype": "text/x-python",
   "name": "python",
   "nbconvert_exporter": "python",
   "pygments_lexer": "ipython3",
   "version": "3.8.5"
  }
 },
 "nbformat": 4,
 "nbformat_minor": 4
}
